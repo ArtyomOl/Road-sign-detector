{
 "cells": [
  {
   "cell_type": "code",
   "execution_count": 18,
   "id": "10a72f4a",
   "metadata": {},
   "outputs": [
    {
     "data": {
      "image/png": "[encoded data removed]",
      "text/plain": [
       "<Figure size 640x480 with 1 Axes>"
      ]
     },
     "metadata": {},
     "output_type": "display_data"
    },
    {
     "name": "stdout",
     "output_type": "stream",
     "text": [
      "Результат: 12 (уверенность: 100.0%)\n"
     ]
    }
   ],
   "source": [
    "import torch\n",
    "import torch.nn as nn\n",
    "from PIL import Image\n",
    "import torchvision.transforms as transforms\n",
    "import matplotlib.pyplot as plt\n",
    "\n",
    "# Определение архитектуры модели (должно совпадать с обученной моделью)\n",
    "class TrafficSignCNN(nn.Module):\n",
    "    def __init__(self):\n",
    "        super().__init__()\n",
    "        self.conv_layers = nn.Sequential(\n",
    "            nn.Conv2d(3, 32, kernel_size=3, padding=1),\n",
    "            nn.ReLU(),\n",
    "            nn.MaxPool2d(2),\n",
    "            nn.Conv2d(32, 64, kernel_size=3, padding=1),\n",
    "            nn.ReLU(),\n",
    "            nn.MaxPool2d(2)\n",
    "        )\n",
    "        self.fc_layers = nn.Sequential(\n",
    "            nn.Flatten(),\n",
    "            nn.Linear(64 * 16 * 16, 128),\n",
    "            nn.ReLU(),\n",
    "            nn.Dropout(0.5),\n",
    "            nn.Linear(128, 43)  # 43 класса для GTSRB\n",
    "        )\n",
    "\n",
    "    def forward(self, x):\n",
    "        x = self.conv_layers(x)\n",
    "        x = self.fc_layers(x)\n",
    "        return x\n",
    "\n",
    "# Загрузка модели\n",
    "def load_model(model_path):\n",
    "    model = TrafficSignCNN()\n",
    "    model.load_state_dict(torch.load(model_path))\n",
    "    model.eval()  # Режим предсказания\n",
    "    return model\n",
    "\n",
    "# Преобразование изображения\n",
    "def process_image(image_path):\n",
    "    transform = transforms.Compose([\n",
    "        transforms.Resize((64, 64)),\n",
    "        transforms.ToTensor(),\n",
    "        transforms.Normalize(mean=[0.485, 0.456, 0.406], std=[0.229, 0.224, 0.225])\n",
    "    ])\n",
    "    image = Image.open(image_path).convert('RGB')\n",
    "    return transform(image).unsqueeze(0)  # Добавляем batch-размер\n",
    "\n",
    "# Предсказание\n",
    "def predict(image_path, model, class_names=None):\n",
    "    image_tensor = process_image(image_path)\n",
    "    with torch.no_grad():\n",
    "        outputs = model(image_tensor)\n",
    "        _, predicted = torch.max(outputs, 1)\n",
    "        prob = torch.nn.functional.softmax(outputs, dim=1)[0] * 100\n",
    "    \n",
    "    if class_names:\n",
    "        return class_names[predicted.item()], prob[predicted.item()].item()\n",
    "    return predicted.item(), prob[predicted.item()].item()\n",
    "\n",
    "# Пример использования\n",
    "model = load_model('traffic_sign_cnn.pth')\n",
    "\n",
    "# Словарь классов (замените на ваши метки)\n",
    "class_names = None #{\n",
    "#     0: \"Speed limit 20\", \n",
    "#     1: \"Speed limit 30\",\n",
    "#     # ... остальные 43 класса\n",
    "# }\n",
    "\n",
    "# Предсказание для одного изображения\n",
    "image_path = \"D:\\\\archive\\\\Meta\\\\20.png\"  # Укажите путь к вашему изображению\n",
    "pred_class, confidence = predict(image_path, model, class_names)\n",
    "\n",
    "# Визуализация\n",
    "image = Image.open(image_path)\n",
    "plt.imshow(image)\n",
    "plt.title(f\"Class: {pred_class}\\nConfidence: {confidence:.1f}%\")\n",
    "plt.axis('off')\n",
    "plt.show()\n",
    "\n",
    "print(f\"Результат: {pred_class} (уверенность: {confidence:.1f}%)\")"
   ]
  }
 ],
 "metadata": {
  "kernelspec": {
   "display_name": "Python 3",
   "language": "python",
   "name": "python3"
  },
  "language_info": {
   "codemirror_mode": {
    "name": "ipython",
    "version": 3
   },
   "file_extension": ".py",
   "mimetype": "text/x-python",
   "name": "python",
   "nbconvert_exporter": "python",
   "pygments_lexer": "ipython3",
   "version": "3.11.0"
  }
 },
 "nbformat": 4,
 "nbformat_minor": 5
}
